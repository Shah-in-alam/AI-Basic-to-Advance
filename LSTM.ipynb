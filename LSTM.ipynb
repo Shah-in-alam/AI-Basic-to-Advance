{
  "nbformat": 4,
  "nbformat_minor": 0,
  "metadata": {
    "colab": {
      "provenance": [],
      "authorship_tag": "ABX9TyOgnGIztH03zmMb/A2Qe1Xt",
      "include_colab_link": true
    },
    "kernelspec": {
      "name": "python3",
      "display_name": "Python 3"
    },
    "language_info": {
      "name": "python"
    }
  },
  "cells": [
    {
      "cell_type": "markdown",
      "metadata": {
        "id": "view-in-github",
        "colab_type": "text"
      },
      "source": [
        "<a href=\"https://colab.research.google.com/github/Shah-in-alam/AI-Basic-to-Advance/blob/main/LSTM.ipynb\" target=\"_parent\"><img src=\"https://colab.research.google.com/assets/colab-badge.svg\" alt=\"Open In Colab\"/></a>"
      ]
    },
    {
      "cell_type": "markdown",
      "source": [
        "#What is LSTM?\n",
        "### LSTM is a special type ofRecurrent Neural Network (RNN) that is great at understanding sequential data - like text, speach, or time series.\n",
        "###LSTM can remember long-term dependencies and handles problems like vanishing gradients better than simple RNNs.\n",
        "### Use Case: Movie review sentences are sequences. LSTM \"reads\" one word at a time and learns the context.\n",
        "\n",
        "\n"
      ],
      "metadata": {
        "id": "TyeiImpuPcGJ"
      }
    },
    {
      "cell_type": "code",
      "source": [
        "import torch\n",
        "import torch.nn as nn\n",
        "import torch.nn.functional as F\n",
        "\n",
        "# Device\n",
        "device = torch.device(\"cuda\" if torch.cuda.is_available() else \"cpu\")\n",
        "\n",
        "# Sample vocabulary and labels\n",
        "vocab = {'i':0, 'love':1, 'this':2, 'movie':3, 'hate':4, 'is':5, 'bad':6, 'great':7, 'film':8}\n",
        "label_map = {'pos':1, 'neg':0}\n",
        "\n",
        "# Sample sentences and labels\n",
        "sentences = [\n",
        "    ['i', 'love', 'this', 'movie'],\n",
        "    ['this', 'movie', 'is', 'great'],\n",
        "    ['i', 'hate', 'this', 'film'],\n",
        "    ['this', 'film', 'is', 'bad']\n",
        "]\n",
        "labels = ['pos', 'pos', 'neg', 'neg']\n",
        "\n",
        "# Convert sentences to indices\n",
        "def encode(sentence):\n",
        "    return [vocab.get(word, 0) for word in sentence]\n",
        "\n",
        "encoded = [torch.tensor(encode(s)) for s in sentences]\n",
        "labels = torch.tensor([label_map[l] for l in labels])\n",
        "\n",
        "# Pad sequences\n",
        "padded = nn.utils.rnn.pad_sequence(encoded, batch_first=True)\n",
        "\n",
        "# Model\n",
        "class SimpleLSTM(nn.Module):\n",
        "    def __init__(self, vocab_size, embed_dim, hidden_dim):\n",
        "        super(SimpleLSTM, self).__init__()\n",
        "        self.embedding = nn.Embedding(vocab_size, embed_dim)\n",
        "        self.lstm = nn.LSTM(embed_dim, hidden_dim, batch_first=True)\n",
        "        self.fc = nn.Linear(hidden_dim, 2)  # Binary classification\n",
        "\n",
        "    def forward(self, x):\n",
        "        x = self.embedding(x)\n",
        "        _, (hidden, _) = self.lstm(x)\n",
        "        out = self.fc(hidden[-1])\n",
        "        return out\n",
        "\n",
        "# Train\n",
        "model = SimpleLSTM(len(vocab), 10, 16).to(device)\n",
        "criterion = nn.CrossEntropyLoss()\n",
        "optimizer = torch.optim.Adam(model.parameters(), lr=0.01)\n",
        "\n",
        "padded = padded.to(device)\n",
        "labels = labels.to(device)\n",
        "\n",
        "for epoch in range(10):\n",
        "    optimizer.zero_grad()\n",
        "    outputs = model(padded)\n",
        "    loss = criterion(outputs, labels)\n",
        "    loss.backward()\n",
        "    optimizer.step()\n",
        "    print(f\"Epoch {epoch+1}, Loss: {loss.item():.4f}\")\n",
        "\n",
        "# Predict\n",
        "test_sentence = ['i', 'love', 'film']\n",
        "test_tensor = torch.tensor([encode(test_sentence)], dtype=torch.long).to(device)\n",
        "with torch.no_grad():\n",
        "    prediction = model(test_tensor)\n",
        "    pred_label = torch.argmax(prediction, dim=1).item()\n",
        "    print(\"Prediction:\", \"Positive\" if pred_label == 1 else \"Negative\")\n"
      ],
      "metadata": {
        "colab": {
          "base_uri": "https://localhost:8080/"
        },
        "id": "tgTKT-P6WyZz",
        "outputId": "7711c85a-db1f-4b6f-af51-f8060edad75a"
      },
      "execution_count": 2,
      "outputs": [
        {
          "output_type": "stream",
          "name": "stdout",
          "text": [
            "Epoch 1, Loss: 0.7467\n",
            "Epoch 2, Loss: 0.7070\n",
            "Epoch 3, Loss: 0.6712\n",
            "Epoch 4, Loss: 0.6365\n",
            "Epoch 5, Loss: 0.6011\n",
            "Epoch 6, Loss: 0.5639\n",
            "Epoch 7, Loss: 0.5243\n",
            "Epoch 8, Loss: 0.4817\n",
            "Epoch 9, Loss: 0.4359\n",
            "Epoch 10, Loss: 0.3867\n",
            "Prediction: Negative\n"
          ]
        }
      ]
    },
    {
      "cell_type": "code",
      "source": [
        "def predict_sentiment(sentence, model, vocab):\n",
        "    model.eval()\n",
        "    indices = torch.tensor([encode(sentence.lower().split())], dtype=torch.long).to(device)\n",
        "    with torch.no_grad():\n",
        "        output = model(indices)\n",
        "        prediction = torch.argmax(output, dim=1).item()\n",
        "    return \"Positive 😊\" if prediction == 1 else \"Negative 😡\"\n",
        "\n",
        "# Example\n",
        "print(predict_sentiment(\"this movie is great\", model, vocab))\n",
        "print(predict_sentiment(\"i hate this film\", model, vocab))\n"
      ],
      "metadata": {
        "colab": {
          "base_uri": "https://localhost:8080/"
        },
        "id": "92SeFMAAwbAp",
        "outputId": "b81b2e8b-2d04-4226-8f87-66ea0826d424"
      },
      "execution_count": 3,
      "outputs": [
        {
          "output_type": "stream",
          "name": "stdout",
          "text": [
            "Positive 😊\n",
            "Negative 😡\n"
          ]
        }
      ]
    },
    {
      "cell_type": "code",
      "source": [
        "import matplotlib.pyplot as plt\n",
        "\n",
        "losses = []\n",
        "\n",
        "for epoch in range(10):\n",
        "    optimizer.zero_grad()\n",
        "    outputs = model(padded)\n",
        "    loss = criterion(outputs, labels)\n",
        "    loss.backward()\n",
        "    optimizer.step()\n",
        "    losses.append(loss.item())\n",
        "    print(f\"Epoch {epoch+1}, Loss: {loss.item():.4f}\")\n",
        "\n",
        "# Plot loss\n",
        "plt.plot(range(1, 11), losses)\n",
        "plt.xlabel(\"Epoch\")\n",
        "plt.ylabel(\"Loss\")\n",
        "plt.title(\"Training Loss\")\n",
        "plt.grid(True)\n",
        "plt.show()\n"
      ],
      "metadata": {
        "colab": {
          "base_uri": "https://localhost:8080/",
          "height": 646
        },
        "id": "rA3CftLYw_aj",
        "outputId": "55edf6d5-c984-41ee-80c8-618f877d15d8"
      },
      "execution_count": 4,
      "outputs": [
        {
          "output_type": "stream",
          "name": "stdout",
          "text": [
            "Epoch 1, Loss: 0.3346\n",
            "Epoch 2, Loss: 0.2814\n",
            "Epoch 3, Loss: 0.2296\n",
            "Epoch 4, Loss: 0.1819\n",
            "Epoch 5, Loss: 0.1406\n",
            "Epoch 6, Loss: 0.1065\n",
            "Epoch 7, Loss: 0.0795\n",
            "Epoch 8, Loss: 0.0588\n",
            "Epoch 9, Loss: 0.0433\n",
            "Epoch 10, Loss: 0.0319\n"
          ]
        },
        {
          "output_type": "display_data",
          "data": {
            "text/plain": [
              "<Figure size 640x480 with 1 Axes>"
            ],
            "image/png": "[encoded data removed]"
          },
          "metadata": {}
        }
      ]
    },
    {
      "cell_type": "code",
      "source": [
        "class BiLSTM(nn.Module):\n",
        "    def __init__(self, vocab_size, embed_dim, hidden_dim):\n",
        "        super(BiLSTM, self).__init__()\n",
        "        self.embedding = nn.Embedding(vocab_size, embed_dim)\n",
        "        self.lstm = nn.LSTM(embed_dim, hidden_dim, batch_first=True, bidirectional=True)\n",
        "        self.fc = nn.Linear(hidden_dim * 2, 2)  # Multiply hidden size for bidirection\n",
        "\n",
        "    def forward(self, x):\n",
        "        x = self.embedding(x)\n",
        "        _, (hidden, _) = self.lstm(x)\n",
        "        # Concatenate forward and backward hidden states\n",
        "        out = torch.cat((hidden[0], hidden[1]), dim=1)\n",
        "        return self.fc(out)\n"
      ],
      "metadata": {
        "id": "dkXZ2MQ_xEZr"
      },
      "execution_count": 5,
      "outputs": []
    },
    {
      "cell_type": "code",
      "source": [
        "# Save\n",
        "torch.save(model.state_dict(), \"sentiment_model.pt\")\n",
        "\n",
        "# Load\n",
        "loaded_model = SimpleLSTM(len(vocab), 10, 16).to(device)\n",
        "loaded_model.load_state_dict(torch.load(\"sentiment_model.pt\"))\n",
        "loaded_model.eval()\n"
      ],
      "metadata": {
        "colab": {
          "base_uri": "https://localhost:8080/"
        },
        "id": "mZHA_RgkxHVL",
        "outputId": "86786a3d-d29c-45c8-d84f-c89a94947431"
      },
      "execution_count": 6,
      "outputs": [
        {
          "output_type": "execute_result",
          "data": {
            "text/plain": [
              "SimpleLSTM(\n",
              "  (embedding): Embedding(9, 10)\n",
              "  (lstm): LSTM(10, 16, batch_first=True)\n",
              "  (fc): Linear(in_features=16, out_features=2, bias=True)\n",
              ")"
            ]
          },
          "metadata": {},
          "execution_count": 6
        }
      ]
    },
    {
      "cell_type": "code",
      "source": [
        "!pip install gradio --quiet\n",
        "\n",
        "import gradio as gr\n",
        "\n",
        "def gradio_predict(text):\n",
        "    return predict_sentiment(text, model, vocab)\n",
        "\n",
        "gr.Interface(fn=gradio_predict, inputs=\"text\", outputs=\"text\", title=\"Simple Sentiment Classifier\").launch()\n"
      ],
      "metadata": {
        "colab": {
          "base_uri": "https://localhost:8080/",
          "height": 646
        },
        "id": "mrMJNTFgxKn1",
        "outputId": "ebf68c6c-cdf5-4722-e5ce-1b2730707838"
      },
      "execution_count": 7,
      "outputs": [
        {
          "output_type": "stream",
          "name": "stdout",
          "text": [
            "It looks like you are running Gradio on a hosted Jupyter notebook, which requires `share=True`. Automatically setting `share=True` (you can turn this off by setting `share=False` in `launch()` explicitly).\n",
            "\n",
            "Colab notebook detected. To show errors in colab notebook, set debug=True in launch()\n",
            "* Running on public URL: https://739aeb16315aa872b7.gradio.live\n",
            "\n",
            "This share link expires in 1 week. For free permanent hosting and GPU upgrades, run `gradio deploy` from the terminal in the working directory to deploy to Hugging Face Spaces (https://huggingface.co/spaces)\n"
          ]
        },
        {
          "output_type": "display_data",
          "data": {
            "text/plain": [
              "<IPython.core.display.HTML object>"
            ],
            "text/html": [
              "<div><iframe src=\"https://739aeb16315aa872b7.gradio.live\" width=\"100%\" height=\"500\" allow=\"autoplay; camera; microphone; clipboard-read; clipboard-write;\" frameborder=\"0\" allowfullscreen></iframe></div>"
            ]
          },
          "metadata": {}
        },
        {
          "output_type": "execute_result",
          "data": {
            "text/plain": []
          },
          "metadata": {},
          "execution_count": 7
        }
      ]
    }
  ]
}