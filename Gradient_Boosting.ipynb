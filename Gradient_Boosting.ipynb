{
  "nbformat": 4,
  "nbformat_minor": 0,
  "metadata": {
    "colab": {
      "provenance": [],
      "authorship_tag": "ABX9TyN8+RHjXfQFTG0d3sISlhOv",
      "include_colab_link": true
    },
    "kernelspec": {
      "name": "python3",
      "display_name": "Python 3"
    },
    "language_info": {
      "name": "python"
    }
  },
  "cells": [
    {
      "cell_type": "markdown",
      "metadata": {
        "id": "view-in-github",
        "colab_type": "text"
      },
      "source": [
        "<a href=\"https://colab.research.google.com/github/Shah-in-alam/AI-Basic-to-Advance/blob/main/Gradient_Boosting.ipynb\" target=\"_parent\"><img src=\"https://colab.research.google.com/assets/colab-badge.svg\" alt=\"Open In Colab\"/></a>"
      ]
    },
    {
      "cell_type": "markdown",
      "source": [
        "# Gradient Boosting (Specially: XGBoost)"
      ],
      "metadata": {
        "id": "L66cJ5eWAUza"
      }
    },
    {
      "cell_type": "markdown",
      "source": [
        "## What is Gradient Boosting ?\n",
        "#### Gradient Boosting is an ensureable learning method that builds a strong model by combining multiple weak learners, typically decision trees, in a sequential manner.\n",
        "#### Each tree corrects the error of the previous ones by minimizing the gradinet of the loss function (hence the name).\n",
        "\n",
        "## Why XGBoost?\n",
        "XGBoost stands for Extreme Gradient Boosting. it's a high-performance implementation of gradient boosting that:\n",
        "###. Handles missing values\n",
        "###. Is regularized less overfiting\n",
        "###. Supports parallelization fast\n",
        "###. often wins kaggle competitions\n",
        "\n",
        "#Real Use Cases:\n",
        "###. Credit scoring\n",
        "###. Fraud detection\n",
        "###. Structured data competitions\n",
        "###. Customer churn prediction\n",
        "\n"
      ],
      "metadata": {
        "id": "fDHowX1YAtNZ"
      }
    },
    {
      "cell_type": "markdown",
      "source": [
        "### Predicting Titanic Survivors using XGBoost\n",
        "Project Overview:\n",
        "Load and explore the dataset\n",
        "\n",
        "Clean and preprocess data\n",
        "\n",
        "Encode categorical features\n",
        "\n",
        "Split train/test\n",
        "\n",
        "Train XGBoost model\n",
        "\n",
        "Evaluate accuracy\n",
        "\n",
        "Show feature importance"
      ],
      "metadata": {
        "id": "Pq2CtkiBD1Ua"
      }
    },
    {
      "cell_type": "code",
      "execution_count": 11,
      "metadata": {
        "colab": {
          "base_uri": "https://localhost:8080/",
          "height": 1000
        },
        "id": "H_XLyzhTATkw",
        "outputId": "f5108f26-e93b-4ebc-8622-ef9236d65ebf"
      },
      "outputs": [
        {
          "output_type": "stream",
          "name": "stderr",
          "text": [
            "/tmp/ipython-input-11-3303808729.py:14: FutureWarning: A value is trying to be set on a copy of a DataFrame or Series through chained assignment using an inplace method.\n",
            "The behavior will change in pandas 3.0. This inplace method will never work because the intermediate object on which we are setting values always behaves as a copy.\n",
            "\n",
            "For example, when doing 'df[col].method(value, inplace=True)', try using 'df.method({col: value}, inplace=True)' or df[col] = df[col].method(value) instead, to perform the operation inplace on the original object.\n",
            "\n",
            "\n",
            "  df['Age'].fillna(df['Age'].median(),inplace=True)\n",
            "/tmp/ipython-input-11-3303808729.py:15: FutureWarning: A value is trying to be set on a copy of a DataFrame or Series through chained assignment using an inplace method.\n",
            "The behavior will change in pandas 3.0. This inplace method will never work because the intermediate object on which we are setting values always behaves as a copy.\n",
            "\n",
            "For example, when doing 'df[col].method(value, inplace=True)', try using 'df.method({col: value}, inplace=True)' or df[col] = df[col].method(value) instead, to perform the operation inplace on the original object.\n",
            "\n",
            "\n",
            "  df['Embarked'].fillna(df['Embarked'].mode()[0],inplace=True)\n",
            "/usr/local/lib/python3.11/dist-packages/xgboost/core.py:158: UserWarning: [23:28:27] WARNING: /workspace/src/learner.cc:740: \n",
            "Parameters: { \"eval_metrics\", \"use_label_encoder\" } are not used.\n",
            "\n",
            "  warnings.warn(smsg, UserWarning)\n"
          ]
        },
        {
          "output_type": "stream",
          "name": "stdout",
          "text": [
            "Accuracy: 0.7988826815642458\n",
            "\n",
            "Classification Report: \n",
            "               precision    recall  f1-score   support\n",
            "\n",
            "           0       0.82      0.84      0.83       105\n",
            "           1       0.76      0.74      0.75        74\n",
            "\n",
            "    accuracy                           0.80       179\n",
            "   macro avg       0.79      0.79      0.79       179\n",
            "weighted avg       0.80      0.80      0.80       179\n",
            "\n"
          ]
        },
        {
          "output_type": "display_data",
          "data": {
            "text/plain": [
              "<Figure size 640x480 with 1 Axes>"
            ],
            "image/png": "[encoded data removed]"
          },
          "metadata": {}
        }
      ],
      "source": [
        "import pandas as pd\n",
        "import numpy as np\n",
        "from sklearn.model_selection import train_test_split\n",
        "from sklearn.metrics import accuracy_score, classification_report\n",
        "import xgboost as xgb\n",
        "import matplotlib.pyplot as plt\n",
        "\n",
        "# Load the data from github\n",
        "url=\"https://raw.githubusercontent.com/datasciencedojo/datasets/master/titanic.csv\"\n",
        "df=pd.read_csv(url)\n",
        "\n",
        "#Processing\n",
        "df =df[['Survived','Pclass','Sex','Age','Fare','Embarked']]\n",
        "df['Age'].fillna(df['Age'].median(),inplace=True)\n",
        "df['Embarked'].fillna(df['Embarked'].mode()[0],inplace=True)\n",
        "\n",
        "##Encode categorical features\n",
        "\n",
        "df['Sex']=df['Sex'].map({'male':0,'female':1})\n",
        "df['Embarked']=df['Embarked'].map({'S':0,'C':1,'Q':2})\n",
        "\n",
        "#Split the data\n",
        "X=df.drop('Survived',axis=1)\n",
        "y=df['Survived']\n",
        "X_train,X_test,y_train,y_test=train_test_split(X,y,test_size=0.2,random_state=42)\n",
        "\n",
        "# Train XGBoost model\n",
        "model =xgb.XGBClassifier(use_label_encoder=False,eval_metrics='logloss')\n",
        "model.fit(X_train,y_train)\n",
        "\n",
        "#predict\n",
        "y_pred=model.predict(X_test)\n",
        "\n",
        "#Evaluate\n",
        "print(\"Accuracy:\", accuracy_score(y_test,y_pred))\n",
        "print(\"\\nClassification Report: \\n\",classification_report(y_test,y_pred))\n",
        "\n",
        "# Feature importance\n",
        "xgb.plot_importance(model)\n",
        "plt.title('Feature Importance')\n",
        "plt.show()"
      ]
    },
    {
      "cell_type": "markdown",
      "source": [
        "# Part 1 : Use GridSearchCV to Optimize XGBoost Hyperparameters"
      ],
      "metadata": {
        "id": "wLq5i2MiH6uI"
      }
    },
    {
      "cell_type": "code",
      "source": [
        "from sklearn.model_selection import GridSearchCV\n",
        "import xgboost as xgb\n",
        "import warnings\n",
        "warnings.filterwarnings('ignore')\n",
        "\n",
        "#Define parameter grid\n",
        "param_grid ={\n",
        "    'max_depth': [3,4,5],\n",
        "    'learning_rate':[0.05,0.1,0.2],\n",
        "    'n_estimators':[50,100,200],\n",
        "    'subsample':[0.8,1]\n",
        "}\n",
        "\n",
        "#initialize base model\n",
        "xgb_model =xgb.XGBRFClassifier(use_label_encoder=False,eval_metrics='logloss')\n",
        "\n",
        "#Initialize GridSearchCV\n",
        "grid_search =GridSearchCV(xgb_model,param_grid,cv=5,scoring='accuracy',verbose=1,n_jobs=1)\n",
        "grid_search.fit(X_train,y_train)\n",
        "\n",
        "print(\"Best parameters:\", grid_search.best_params_)\n",
        "print(\"Best CV accuracy:\", grid_search.best_score_)\n",
        "\n",
        "#Train best model\n",
        "best_model =grid_search.best_estimator_\n",
        "\n",
        "#predict\n",
        "y_pred=best_model.predict(X_test)\n",
        "print(\"Test accuracy after tuning:\", accuracy_score(y_test,y_pred))"
      ],
      "metadata": {
        "colab": {
          "base_uri": "https://localhost:8080/"
        },
        "id": "PY_TklMWH6Vh",
        "outputId": "a8d518c2-a34d-4ff3-f6b4-2b4704b078d9"
      },
      "execution_count": 20,
      "outputs": [
        {
          "output_type": "stream",
          "name": "stdout",
          "text": [
            "Fitting 5 folds for each of 54 candidates, totalling 270 fits\n",
            "Best parameters: {'learning_rate': 0.2, 'max_depth': 5, 'n_estimators': 50, 'subsample': 1}\n",
            "Best CV accuracy: 0.7626021865458485\n",
            "Test accuracy after tuning: 0.7262569832402235\n"
          ]
        }
      ]
    },
    {
      "cell_type": "markdown",
      "source": [
        "#Part 2: Convert it into a Gradio Web app\n",
        "## What it will do:\n",
        "Take user input: Age, Fare, Sex, Pclass, Embarked\n",
        "\n",
        "Return prediction: Survived or Not\n",
        "\n",
        "Use the best trained model"
      ],
      "metadata": {
        "id": "9mzbVWHUKz55"
      }
    },
    {
      "cell_type": "code",
      "source": [
        "import gradio as gr\n",
        "\n",
        "#load reguired encodings\n",
        "pclass_options = [1, 2, 3]\n",
        "sex_options = ['male', 'female']\n",
        "embarked_options = ['S', 'C', 'Q']\n",
        "\n",
        "def predict_survival(pclass, sex, age, fare, embarked):\n",
        "    # Preprocess inputs\n",
        "    sex_num = 0 if sex == 'male' else 1\n",
        "    embarked_num = {'S': 0, 'C': 1, 'Q': 2}[embarked]\n",
        "    input_df = pd.DataFrame([[pclass, sex_num, age, fare, embarked_num]],\n",
        "                            columns=['Pclass', 'Sex', 'Age', 'Fare', 'Embarked'])\n",
        "\n",
        "    # Predict\n",
        "    prediction = best_model.predict(input_df)[0]\n",
        "    return \" Survived\" if prediction == 1 else \" Did Not Survive\"\n",
        "\n",
        "# Build interface\n",
        "interface = gr.Interface(\n",
        "    fn=predict_survival,\n",
        "    inputs=[\n",
        "        gr.Dropdown(pclass_options, label=\"Passenger Class\"),\n",
        "        gr.Radio(sex_options, label=\"Sex\"),\n",
        "        gr.Slider(0, 80, value=30, label=\"Age\"),\n",
        "        gr.Slider(0, 500, value=50, label=\"Fare\"),\n",
        "        gr.Radio(embarked_options, label=\"Embarked Port\")\n",
        "    ],\n",
        "    outputs=\"text\",\n",
        "    title=\"🚢 Titanic Survival Predictor (XGBoost + GridSearchCV)\"\n",
        ")\n",
        "\n",
        "interface.launch()"
      ],
      "metadata": {
        "colab": {
          "base_uri": "https://localhost:8080/",
          "height": 646
        },
        "id": "7IhGj0-PKzn9",
        "outputId": "187ccbcb-2faa-4ea2-dc7b-a7d69aa50bf5"
      },
      "execution_count": 23,
      "outputs": [
        {
          "output_type": "stream",
          "name": "stdout",
          "text": [
            "It looks like you are running Gradio on a hosted a Jupyter notebook. For the Gradio app to work, sharing must be enabled. Automatically setting `share=True` (you can turn this off by setting `share=False` in `launch()` explicitly).\n",
            "\n",
            "Colab notebook detected. To show errors in colab notebook, set debug=True in launch()\n",
            "* Running on public URL: https://bdded5cf731abe62ad.gradio.live\n",
            "\n",
            "This share link expires in 1 week. For free permanent hosting and GPU upgrades, run `gradio deploy` from the terminal in the working directory to deploy to Hugging Face Spaces (https://huggingface.co/spaces)\n"
          ]
        },
        {
          "output_type": "display_data",
          "data": {
            "text/plain": [
              "<IPython.core.display.HTML object>"
            ],
            "text/html": [
              "<div><iframe src=\"https://bdded5cf731abe62ad.gradio.live\" width=\"100%\" height=\"500\" allow=\"autoplay; camera; microphone; clipboard-read; clipboard-write;\" frameborder=\"0\" allowfullscreen></iframe></div>"
            ]
          },
          "metadata": {}
        },
        {
          "output_type": "execute_result",
          "data": {
            "text/plain": []
          },
          "metadata": {},
          "execution_count": 23
        }
      ]
    }
  ]
}